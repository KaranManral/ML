{
  "cells": [
    {
      "cell_type": "code",
      "execution_count": 36,
      "metadata": {
        "id": "3NjM9aARIRO1"
      },
      "outputs": [],
      "source": [
        "import pandas as pd\n",
        "import matplotlib.pyplot as plt\n",
        "import numpy as np\n",
        "import pandas as pd\n",
        "import seaborn as sns\n",
        "from sklearn.datasets import *\n",
        "from sklearn.metrics import classification_report, confusion_matrix"
      ]
    },
    {
      "cell_type": "code",
      "execution_count": 41,
      "metadata": {
        "id": "FQBDmH7Hwj32",
        "scrolled": true
      },
      "outputs": [],
      "source": [
        " iris = load_iris()"
      ]
    },
    {
      "cell_type": "code",
      "execution_count": 42,
      "metadata": {
        "id": "6_uWDgVLkAfy"
      },
      "outputs": [],
      "source": [
        "iris_df = pd.DataFrame(data=iris.data, columns=iris.feature_names)\n",
        "iris_df['target'] = iris.target\n",
        "iris_df = iris_df[ (iris_df['target'] == 0) | (iris_df['target'] == 1) ]"
      ]
    },
    {
      "cell_type": "code",
      "execution_count": 18,
      "metadata": {
        "colab": {
          "base_uri": "https://localhost:8080/"
        },
        "id": "ukwXSqfliNCj",
        "outputId": "5529e4ea-d1e3-41b6-ee4f-78eeea494b26"
      },
      "outputs": [
        {
          "output_type": "execute_result",
          "data": {
            "text/plain": [
              "sepal length (cm)    0\n",
              "sepal width (cm)     0\n",
              "petal length (cm)    0\n",
              "petal width (cm)     0\n",
              "target               0\n",
              "dtype: int64"
            ]
          },
          "metadata": {},
          "execution_count": 18
        }
      ],
      "source": [
        "iris_df.isnull().sum()"
      ]
    },
    {
      "cell_type": "code",
      "execution_count": 43,
      "metadata": {
        "id": "d_iPWpC2CLpg"
      },
      "outputs": [],
      "source": [
        "features =  ['petal length (cm)']\n",
        "X = iris_df[features].values\n",
        "Y = iris_df['target'].values\n"
      ]
    },
    {
      "cell_type": "code",
      "execution_count": 44,
      "metadata": {
        "colab": {
          "base_uri": "https://localhost:8080/"
        },
        "id": "XW6d5EUJ8gjh",
        "outputId": "55442f97-6a8e-43a2-b4a2-136573cff7b5"
      },
      "outputs": [
        {
          "output_type": "stream",
          "name": "stdout",
          "text": [
            "Mean and Standard Deviation Before\n",
            "[2.861] [1.44228257]\n",
            "Mean and Standard Deviation After\n",
            "[-0.] [1.]\n"
          ]
        }
      ],
      "source": [
        "from sklearn.preprocessing import MinMaxScaler, StandardScaler\n",
        "\n",
        "def normalize(X):\n",
        "        print(\"Mean and Standard Deviation Before\")\n",
        "        print(X.mean(axis=0), X.std(axis=0))\n",
        "\n",
        "        sc=StandardScaler()\n",
        "        \n",
        "        XScaled = sc.fit_transform(X)\n",
        "        \n",
        "\n",
        "        print(\"Mean and Standard Deviation After\")\n",
        "        print(XScaled.mean(axis=0).round(4), XScaled.std(axis=0))\n",
        "        return XScaled\n",
        "\n",
        "XScaled = normalize(X)"
      ]
    },
    {
      "cell_type": "code",
      "execution_count": 45,
      "metadata": {
        "colab": {
          "base_uri": "https://localhost:8080/"
        },
        "id": "fu3fMJr5iSgu",
        "outputId": "1b09ac12-efd0-494c-c3ed-bca5bd4db680"
      },
      "outputs": [
        {
          "output_type": "stream",
          "name": "stdout",
          "text": [
            "Dimensions of Original Data:\n",
            "Size(X): (100, 1) ; Size(Y) (100,)\n",
            "Dimensions of Training Data:\n",
            "Size(X_train): (80, 1) ; Size(Y_train) (80,)\n",
            "Dimensions of Test Data:\n",
            "Size(X_test): (20, 1) ; Size(Y_test) (20,)\n"
          ]
        }
      ],
      "source": [
        "from sklearn.model_selection import train_test_split\n",
        "\n",
        "def splitTrainTest(X, Y, seed):\n",
        "        \n",
        "        X_train, X_test, Y_train, Y_test = train_test_split(X, Y, test_size=0.2, random_state=seed)\n",
        "     \n",
        "        print(\"Dimensions of Original Data:\")\n",
        "        print(\"Size(X):\", X.shape, \"; Size(Y)\", Y.shape)\n",
        "        print(\"Dimensions of Training Data:\")\n",
        "        print(\"Size(X_train):\", X_train.shape, \"; Size(Y_train)\", Y_train.shape)\n",
        "        print(\"Dimensions of Test Data:\")\n",
        "        print(\"Size(X_test):\", X_test.shape, \"; Size(Y_test)\", Y_test.shape)\n",
        "        return X_train, X_test, Y_train, Y_test\n",
        "       \n",
        "X_train, X_test, Y_train, Y_test = splitTrainTest(XScaled, Y, seed=2)"
      ]
    },
    {
      "cell_type": "code",
      "execution_count": 46,
      "metadata": {
        "id": "Vd2Fl7tvmLdw"
      },
      "outputs": [],
      "source": [
        "X = X_train\n",
        "Y = Y_train\n",
        "# sns.scatterplot(X[:,0], X[:,1], hue=Y)\n",
        "# plt.xlabel(\"Petal Length\")\n",
        "# plt.ylabel(\"Petal Width\")"
      ]
    },
    {
      "cell_type": "code",
      "execution_count": 53,
      "metadata": {
        "id": "-WNHmyAgteKF"
      },
      "outputs": [],
      "source": [
        "\n",
        "def sigmoid(z):\n",
        "    return 1/(1+ np.exp(-z))  \n",
        "\n",
        "def computeCost(X, Y, b, w1, lem):\n",
        "    \n",
        "    N=X.shape[0]\n",
        "    z = w1*X[:,0]  + b\n",
        "    f_x = sigmoid(z)          \n",
        "    lossL = (Y*np.log(f_x)+(1-Y)*np.log(1-f_x)) +(lem/2*N)*((w1*w1)) \n",
        "    costJ = (-1/N) * np.sum( lossL )\n",
        "    return costJ\n",
        "\n",
        "def gradientDescent (X, Y, LearningRate,lem, numIterations):\n",
        "    N, d = X.shape\n",
        "    b, w1, w2 = 1,1,1\n",
        "    errorList =[] \n",
        "    for i in range(numIterations):\n",
        "\n",
        "        z = w1*X[:,0] + b\n",
        "        f_x = sigmoid(z)  \n",
        "\n",
        "        deltaJb = 1/N*sum(f_x-Y)\n",
        "        deltaJw1 =(1/N*sum((f_x-Y)*X[:,0]))+(lem/N)*w1\n",
        "        # deltaJw2 = (1/N*sum((f_x-Y)*X[:,1]))+(lem/N)*w2   \n",
        "        \n",
        "        \n",
        "        b = b - LearningRate*deltaJb\n",
        "        \n",
        "        w1 = w1 - LearningRate*deltaJw1 \n",
        "        # w2 = w2 - LearningRate*deltaJw2\n",
        "       \n",
        "        costJ = computeCost(X, Y, b, w1,lem)\n",
        "        errorList.append(costJ)\n",
        "        \n",
        "    plt.plot(range(numIterations), errorList)\n",
        "    plt.xlabel('Iterations')\n",
        "    plt.ylabel('Cost')\n",
        "    plt.show()\n",
        "    print(\" b\",b)\n",
        "    print(\" w1\",w1)\n",
        "    # print(\" w2\",w2)\n",
        "    \n",
        "    return b, w1"
      ]
    },
    {
      "cell_type": "code",
      "execution_count": 54,
      "metadata": {
        "colab": {
          "base_uri": "https://localhost:8080/",
          "height": 484
        },
        "id": "J56LMoA-tjvt",
        "outputId": "f45c2877-13c1-48c3-a085-ff2a762b4b26"
      },
      "outputs": [
        {
          "output_type": "display_data",
          "data": {
            "text/plain": [
              "<Figure size 640x480 with 1 Axes>"
            ],
            "image/png": "[encoded data removed]"
          },
          "metadata": {}
        },
        {
          "output_type": "stream",
          "name": "stdout",
          "text": [
            " b 0.5265206874830053\n",
            " w1 1.4051775036060383\n"
          ]
        }
      ],
      "source": [
        "b, w1 = gradientDescent(X, Y, 0.009,9 ,numIterations=500)"
      ]
    },
    {
      "cell_type": "code",
      "execution_count": 56,
      "metadata": {
        "colab": {
          "base_uri": "https://localhost:8080/",
          "height": 484
        },
        "id": "5KGrt76xvUm3",
        "outputId": "c089cbc9-ccdb-498c-c59b-fc22e6727e12"
      },
      "outputs": [
        {
          "output_type": "display_data",
          "data": {
            "text/plain": [
              "<Figure size 640x480 with 1 Axes>"
            ],
            "image/png": "[encoded data removed]"
          },
          "metadata": {}
        },
        {
          "output_type": "stream",
          "name": "stdout",
          "text": [
            " b 0.13690082885310395\n",
            " w1 1.6061259540561514\n"
          ]
        }
      ],
      "source": [
        "b, w1 = gradientDescent(X, Y, 1.2, 8,numIterations=100)"
      ]
    },
    {
      "cell_type": "code",
      "execution_count": 59,
      "metadata": {
        "id": "pTruxD5jqH5X",
        "scrolled": true,
        "colab": {
          "base_uri": "https://localhost:8080/"
        },
        "outputId": "eab11314-3cce-4089-daa0-63ae91b07c86"
      },
      "outputs": [
        {
          "output_type": "stream",
          "name": "stdout",
          "text": [
            "Test Accuracy 100.0\n",
            "Train Accuracy 100.0\n"
          ]
        }
      ],
      "source": [
        "def evaluatePerformance(X, Y, b, w1):\n",
        "    z = w1*X[:,0]+ b\n",
        "    f_x = sigmoid(z)\n",
        "    Y_pred = np.where(f_x > 0.5, 1, 0)\n",
        "    acc = np.mean(Y_pred == Y)\n",
        "    return acc * 100\n",
        "testAccuracy = evaluatePerformance(X_test, Y_test, b, w1)\n",
        "print(\"Test Accuracy\", testAccuracy)\n",
        "trainAccuracy = evaluatePerformance(X_train, Y_train, b, w1)\n",
        "print(\"Train Accuracy\", trainAccuracy)\n",
        "     "
      ]
    },
    {
      "cell_type": "code",
      "execution_count": 58,
      "metadata": {
        "colab": {
          "base_uri": "https://localhost:8080/"
        },
        "id": "UiGmPZ-sfuZL",
        "outputId": "f9e6a91d-924c-4cdf-e352-564d79e1fce1"
      },
      "outputs": [
        {
          "output_type": "stream",
          "name": "stdout",
          "text": [
            "              precision    recall  f1-score   support\n",
            "\n",
            "           0       1.00      1.00      1.00        13\n",
            "           1       1.00      1.00      1.00         7\n",
            "\n",
            "    accuracy                           1.00        20\n",
            "   macro avg       1.00      1.00      1.00        20\n",
            "weighted avg       1.00      1.00      1.00        20\n",
            "\n",
            "[[13  0]\n",
            " [ 0  7]]\n"
          ]
        }
      ],
      "source": [
        "def predictY(X, Y, b, w1):\n",
        "    z = w1*X[:,0]  + b\n",
        "    f_x = sigmoid(z)\n",
        "    Y_pred = np.where(f_x > 0.5, 1, 0)\n",
        "    return Y_pred\n",
        "Y_pred = predictY(X_test, Y_test, b, w1)\n",
        "print(classification_report(Y_test,Y_pred))\n",
        "print(confusion_matrix(Y_test,Y_pred))"
      ]
    },
    {
      "cell_type": "code",
      "source": [],
      "metadata": {
        "id": "AHVlZZ-RgIag"
      },
      "execution_count": null,
      "outputs": []
    }
  ],
  "metadata": {
    "colab": {
      "provenance": []
    },
    "kernelspec": {
      "display_name": "Python 3 (ipykernel)",
      "language": "python",
      "name": "python3"
    },
    "language_info": {
      "codemirror_mode": {
        "name": "ipython",
        "version": 3
      },
      "file_extension": ".py",
      "mimetype": "text/x-python",
      "name": "python",
      "nbconvert_exporter": "python",
      "pygments_lexer": "ipython3",
      "version": "3.10.6"
    }
  },
  "nbformat": 4,
  "nbformat_minor": 0
}